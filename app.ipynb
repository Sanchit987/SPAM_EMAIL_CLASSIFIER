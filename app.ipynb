{
 "cells": [
  {
   "cell_type": "code",
   "execution_count": 7,
   "metadata": {},
   "outputs": [],
   "source": [
    "import os\n",
    "import flask\n",
    "import pickle\n",
    "import joblib\n",
    "from flask import Flask, redirect, url_for, request, render_template"
   ]
  },
  {
   "cell_type": "code",
   "execution_count": 8,
   "metadata": {},
   "outputs": [],
   "source": [
    "app = Flask(__name__, template_folder = 'templates')"
   ]
  },
  {
   "cell_type": "code",
   "execution_count": 9,
   "metadata": {},
   "outputs": [],
   "source": [
    "@app.route('/')\n",
    "@app.route('/index')\n",
    "def index():\n",
    "    return render_template('index.html')"
   ]
  },
  {
   "cell_type": "code",
   "execution_count": 10,
   "metadata": {},
   "outputs": [],
   "source": [
    "def ValuePredictor(data): \n",
    "    NB_spam_model = open('classifier.pkl','rb') \n",
    "    clf = joblib.load(NB_spam_model)\n",
    "\n",
    "    cv_model = open('cv.pkl', 'rb')\n",
    "    cv = joblib.load(cv_model)\n",
    "    \n",
    "    vect = cv.transform(data).toarray()\n",
    "    my_prediction = clf.predict(vect)\n",
    "    \n",
    "    return my_prediction[0]"
   ]
  },
  {
   "cell_type": "code",
   "execution_count": 11,
   "metadata": {},
   "outputs": [],
   "source": [
    "@app.route('/result', methods = ['POST'])\n",
    "def result():\n",
    "    if request.method == 'POST':\n",
    "        to_predict = request.form.values()\n",
    "        result = ValuePredictor(to_predict)\n",
    "        if result == 1:\n",
    "            prediction = \"Mail is Spam.\"\n",
    "        else:\n",
    "            prediction = \"Mail is not Spam.\"\n",
    "\n",
    "    return render_template('result.html',prediction = prediction)   \n"
   ]
  },
  {
   "cell_type": "code",
   "execution_count": 12,
   "metadata": {},
   "outputs": [
    {
     "name": "stdout",
     "output_type": "stream",
     "text": [
      " * Serving Flask app '__main__' (lazy loading)\n",
      " * Environment: production\n",
      "   WARNING: This is a development server. Do not use it in a production deployment.\n",
      "   Use a production WSGI server instead.\n",
      " * Debug mode: off\n"
     ]
    },
    {
     "name": "stderr",
     "output_type": "stream",
     "text": [
      " * Running on http://127.0.0.1:5000/ (Press CTRL+C to quit)\n",
      "127.0.0.1 - - [23/May/2021 15:40:38] \"GET / HTTP/1.1\" 200 -\n",
      "127.0.0.1 - - [23/May/2021 15:40:42] \"POST /result HTTP/1.1\" 200 -\n",
      "127.0.0.1 - - [23/May/2021 15:44:34] \"GET / HTTP/1.1\" 200 -\n"
     ]
    }
   ],
   "source": [
    "if __name__ == '__main__':\n",
    "    app.run()"
   ]
  },
  {
   "cell_type": "code",
   "execution_count": null,
   "metadata": {},
   "outputs": [],
   "source": []
  }
 ],
 "metadata": {
  "kernelspec": {
   "display_name": "Python 3",
   "language": "python",
   "name": "python3"
  },
  "language_info": {
   "codemirror_mode": {
    "name": "ipython",
    "version": 3
   },
   "file_extension": ".py",
   "mimetype": "text/x-python",
   "name": "python",
   "nbconvert_exporter": "python",
   "pygments_lexer": "ipython3",
   "version": "3.7.1"
  }
 },
 "nbformat": 4,
 "nbformat_minor": 4
}
